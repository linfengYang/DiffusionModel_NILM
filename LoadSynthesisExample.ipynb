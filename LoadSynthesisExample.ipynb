{
 "cells": [
  {
   "cell_type": "markdown",
   "metadata": {},
   "source": [
    "# Diffusion model synthetic load data example\n",
    "\n",
    "\n",
    "This notebook introduces an example of using the Diffusion model to synthesize a single appliance load data.."
   ]
  },
  {
   "cell_type": "code",
   "execution_count": null,
   "metadata": {},
   "outputs": [],
   "source": [
    "import os\n",
    "import torch\n",
    "import numpy as np\n",
    "from engine.solver import Trainer\n",
    "from Utils.metric_utils import visualization\n",
    "from Data.build_dataloader import build_dataloader\n",
    "from Utils.io_utils import load_yaml_config, instantiate_from_config\n",
    "from Models.interpretable_diffusion.model_utils import unnormalize_to_zero_to_one\n",
    "import pandas as pd\n",
    "import matplotlib.pyplot as plt"
   ]
  },
  {
   "cell_type": "markdown",
   "metadata": {},
   "source": [
    "## Setting and Training"
   ]
  },
  {
   "cell_type": "code",
   "execution_count": null,
   "metadata": {},
   "outputs": [],
   "source": [
    "applianceName='fridge'"
   ]
  },
  {
   "cell_type": "code",
   "execution_count": null,
   "metadata": {},
   "outputs": [],
   "source": [
    "Ftime_series =df = pd.read_csv(f'Data/datasets/{applianceName}.csv')\n",
    "mydata = df['power'].values.reshape(-1, 1)"
   ]
  },
  {
   "cell_type": "code",
   "execution_count": null,
   "metadata": {},
   "outputs": [],
   "source": [
    "print(mydata.max())"
   ]
  },
  {
   "cell_type": "markdown",
   "metadata": {},
   "source": [
    "### Setting up the appliance generation configuration"
   ]
  },
  {
   "cell_type": "code",
   "execution_count": null,
   "metadata": {
    "scrolled": true
   },
   "outputs": [],
   "source": [
    "class Args_Appliance:\n",
    "    def __init__(self) -> None:\n",
    "        self.config_path = f'./Config/{applianceName}.yaml'\n",
    "        self.save_dir = './Synthetic_data'\n",
    "        self.gpu = 0\n",
    "        os.makedirs(self.save_dir, exist_ok=True)\n",
    "\n",
    "args =  Args_Appliance()\n",
    "configs = load_yaml_config(args.config_path)\n",
    "device = torch.device(f'cuda:{args.gpu}' if torch.cuda.is_available() else 'cpu')\n",
    "\n",
    "dl_info = build_dataloader(configs, args)\n",
    "model = instantiate_from_config(configs['model']).to(device)\n",
    "trainer = Trainer(config=configs, args=args, model=model, dataloader=dl_info)"
   ]
  },
  {
   "cell_type": "markdown",
   "metadata": {},
   "source": [
    "### Training models"
   ]
  },
  {
   "cell_type": "code",
   "execution_count": null,
   "metadata": {},
   "outputs": [],
   "source": [
    "trainer.train()"
   ]
  },
  {
   "cell_type": "markdown",
   "metadata": {},
   "source": [
    "## Load synthesis and visual comparison"
   ]
  },
  {
   "cell_type": "markdown",
   "metadata": {},
   "source": [
    "### Sampling"
   ]
  },
  {
   "cell_type": "code",
   "execution_count": null,
   "metadata": {},
   "outputs": [],
   "source": [
    "torch.cuda.empty_cache()\n",
    "dataset = dl_info['dataset']\n",
    "seq_length, feature_dim = dataset.window, dataset.var_num\n",
    "fake_data = trainer.sample(num=200, size_every=200, shape=[seq_length, feature_dim])\n",
    "if dataset.auto_norm:\n",
    "    fake_data = unnormalize_to_zero_to_one(fake_data)\n",
    "    np.save(os.path.join(args.save_dir, f'generate_fake_{applianceName}.npy'), fake_data)"
   ]
  },
  {
   "cell_type": "markdown",
   "metadata": {},
   "source": [
    "### Visualization\n",
    "\n",
    "Visual comparison of synthesis effects"
   ]
  },
  {
   "cell_type": "code",
   "execution_count": null,
   "metadata": {},
   "outputs": [],
   "source": [
    "print(fake_data[0].shape)\n",
    "\n",
    "arr1 = fake_data.flatten()\n",
    "arr2 = mydata.flatten()\n",
    "\n",
    "plt.figure(figsize=(8, 4))\n",
    "plt.plot(arr1[:10000], color='b', label='fake')\n",
    "plt.plot(arr2[:10000], color='r', label='real')\n",
    "plt.title('Real and synthetic electrical power comparison')\n",
    "plt.xlabel('time')\n",
    "plt.ylabel('power')\n",
    "plt.legend()\n",
    "plt.show()"
   ]
  },
  {
   "cell_type": "code",
   "execution_count": null,
   "metadata": {},
   "outputs": [],
   "source": [
    "arr1 = fake_data.flatten()\n",
    "arr2 = mydata.flatten()\n",
    "\n",
    "fig, axs = plt.subplots(2, figsize=(8, 8))\n",
    "\n",
    "axs[0].plot(arr1[10000:20000], linestyle='-', color='b', label='fake')\n",
    "axs[0].set_title('generate dishwasher')\n",
    "axs[0].set_xlabel('Index')\n",
    "axs[0].set_ylabel('power')\n",
    "axs[0].legend()\n",
    "\n",
    "axs[1].plot(arr2[0:10000], linestyle='-', color='r', label='real')\n",
    "axs[1].set_title('origin dishwasher')\n",
    "axs[1].set_xlabel('Index')\n",
    "axs[1].set_ylabel('power')\n",
    "axs[1].legend()\n",
    "\n",
    "plt.tight_layout()\n",
    "plt.show()\n"
   ]
  },
  {
   "cell_type": "code",
   "execution_count": null,
   "metadata": {},
   "outputs": [],
   "source": [
    "print(fake_data.shape)\n",
    "print(ori_data.shape)"
   ]
  },
  {
   "cell_type": "code",
   "execution_count": null,
   "metadata": {},
   "outputs": [],
   "source": [
    "fake_data.flatten()"
   ]
  },
  {
   "cell_type": "code",
   "execution_count": null,
   "metadata": {},
   "outputs": [],
   "source": [
    "flattened_data=arr1\n",
    "df = pd.DataFrame(flattened_data, columns=['power'])\n",
    "df.to_csv(f'generatedData/MinMaxgenerate{applianceName}.csv', index=False)"
   ]
  },
  {
   "cell_type": "code",
   "execution_count": null,
   "metadata": {},
   "outputs": [],
   "source": []
  }
 ],
 "metadata": {
  "kernelspec": {
   "display_name": "nilmtk-torch",
   "language": "python",
   "name": "nilmtk-torch"
  },
  "language_info": {
   "codemirror_mode": {
    "name": "ipython",
    "version": 3
   },
   "file_extension": ".py",
   "mimetype": "text/x-python",
   "name": "python",
   "nbconvert_exporter": "python",
   "pygments_lexer": "ipython3",
   "version": "3.8.18"
  }
 },
 "nbformat": 4,
 "nbformat_minor": 4
}
